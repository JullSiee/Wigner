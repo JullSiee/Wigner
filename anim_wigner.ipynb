{
 "cells": [
  {
   "cell_type": "code",
   "execution_count": null,
   "metadata": {},
   "outputs": [],
   "source": [
    "import numpy as np\n",
    "from scipy.linalg import expm\n",
    "import matplotlib.pyplot as plt\n",
    "import imageio.v2 as imageio\n",
    "from mpl_toolkits.axes_grid1 import make_axes_locatable\n",
    "import os\n",
    "from qutip import *"
   ]
  },
  {
   "cell_type": "code",
   "execution_count": null,
   "metadata": {},
   "outputs": [],
   "source": [
    "N = 30\n",
    "All_spins_up = np.array([1+0j] + [0+0j]*N)\n",
    "\n",
    "S_plus = np.zeros((N + 1, N + 1), dtype = complex)\n",
    "for n in range(N): S_plus[n,n+1] = np.sqrt((n + 1)*(N - n))\n",
    "\n",
    "S_minus = S_plus.conj().T\n",
    "S_x = (S_plus + S_minus)/2\n",
    "S_y = (S_plus - S_minus)/2j\n",
    "S_z = (S_x @ S_y - S_y @ S_x)/1j"
   ]
  },
  {
   "cell_type": "code",
   "execution_count": null,
   "metadata": {},
   "outputs": [],
   "source": [
    "def rotation_operator(axis, angle):\n",
    "    axis /= np.linalg.norm(axis)\n",
    "    return expm(-1j*angle*(axis[0]*S_x + axis[1]*S_y + axis[2]*S_z))"
   ]
  },
  {
   "cell_type": "code",
   "execution_count": null,
   "metadata": {},
   "outputs": [],
   "source": [
    "def evolution(hamiltonian, initial_state, time_step, time_range):\n",
    "    state = rotation_operator((0,1,0), np.pi/2) @ initial_state\n",
    "    infinitesimal_evolution = expm(-1j*time_step*hamiltonian)\n",
    "    result = []\n",
    "    current_time = 0\n",
    "    while current_time < time_range:\n",
    "        result.append(state)\n",
    "        current_time += time_step\n",
    "        state = infinitesimal_evolution @ state\n",
    "        state /= np.linalg.norm(state)\n",
    "    return result"
   ]
  },
  {
   "cell_type": "code",
   "execution_count": null,
   "metadata": {},
   "outputs": [],
   "source": [
    "time_step = 0.05\n",
    "time_range = np.pi\n",
    "time_len = 0\n",
    "current_time = 0\n",
    "while current_time < time_range: \n",
    "    time_len += 1\n",
    "    current_time += time_step"
   ]
  },
  {
   "cell_type": "code",
   "execution_count": null,
   "metadata": {},
   "outputs": [],
   "source": [
    "def evol_Wigner_2d(hamiltonian, initial_state):\n",
    "    frame = 0\n",
    "    filenames = []\n",
    "    plots = []\n",
    "    theta = np.linspace(0, np.pi, 100)\n",
    "    phi = np.linspace(-np.pi, np.pi, 100)\n",
    "    for state in evolution(hamiltonian, initial_state, time_step, time_range):\n",
    "        W, THETA, PHI = spin_wigner(Qobj(state), theta, phi)\n",
    "        plt.contourf(THETA, PHI, W.real, 100)\n",
    "        #plt.title(\"$N=30, H=S_z^2$\")\n",
    "        filename = str(frame) + \".png\"\n",
    "        filenames.append(filename)\n",
    "        plt.savefig(filename, bbox_inches = \"tight\", pad_inches = 0, dpi = 216)\n",
    "        plt.clf()\n",
    "        plots.append(imageio.imread(filename))\n",
    "        frame += 1\n",
    "    imageio.mimsave('wigner2d.gif', plots)\n",
    "    for filename in set(filenames):\n",
    "        os.remove(filename)"
   ]
  },
  {
   "cell_type": "code",
   "execution_count": null,
   "metadata": {},
   "outputs": [],
   "source": [
    "def evol_Wigner_3d(hamiltonian, initial_state):\n",
    "    frame = 0\n",
    "    filenames = []\n",
    "    plots = []\n",
    "    theta = np.linspace(0, np.pi, 300)\n",
    "    phi = np.linspace(-np.pi, np.pi, 300)\n",
    "    for state in evolution(hamiltonian, initial_state, time_step, time_range):\n",
    "        W, THETA, PHI = spin_wigner(Qobj(state), theta, phi)\n",
    "        colors = W.real\n",
    "        fig = plt.figure()\n",
    "        ax = plt.axes(projection =\"3d\")\n",
    "        p = ax.scatter(np.sin(THETA)*np.cos(PHI), np.sin(THETA)*np.sin(PHI), np.cos(THETA), c = colors, s = 10)\n",
    "        # ax.set_title(\"Wigner function\")\n",
    "        ax.set_xlabel('$S_x$')\n",
    "        ax.set_ylabel('$S_y$')\n",
    "        ax.set_zlabel('$S_z$')\n",
    "        #można obrócić wykres\n",
    "        #ax.view_init(20, -10)\n",
    "        filename = str(frame) + \".png\"\n",
    "        filenames.append(filename)\n",
    "        plt.savefig(filename, bbox_inches = \"tight\", pad_inches = 0, dpi = 216)\n",
    "        plt.close()\n",
    "        plots.append(imageio.imread(filename))\n",
    "        frame += 1\n",
    "    imageio.mimsave('wigner3d.gif', plots)\n",
    "    for filename in set(filenames):\n",
    "        os.remove(filename)"
   ]
  },
  {
   "cell_type": "code",
   "execution_count": null,
   "metadata": {},
   "outputs": [],
   "source": [
    "def evol_wigner_flat(hamiltonian, initial_state):\n",
    "    frame = 0\n",
    "    filenames = []\n",
    "    plots = []\n",
    "    theta = np.linspace(0, np.pi, 200)\n",
    "    phi = np.linspace(-np.pi, np.pi, 200)\n",
    "    for state in evolution(hamiltonian, initial_state, time_step, time_range):\n",
    "        W, THETA, PHI = spin_wigner(Qobj(state), theta, phi)\n",
    "        colors = W.real\n",
    "        a = 1.340264\n",
    "        b = -0.081106\n",
    "        c = 0.000893\n",
    "        d = 0.003796\n",
    "        t = np.arcsin(np.sqrt(3)*np.sin(np.pi/2 - THETA)/2)\n",
    "        xs = (2*PHI*np.cos(t)/np.sqrt(3)/(a+3*b*t**2+7*c*t**6+9*d*t**8))\n",
    "        ys = (a*t+b*t**3+c*t**7+d*t**9)\n",
    "        plt.gca().axis(\"off\")\n",
    "        plt.gca().set_aspect(0.75)\n",
    "        plt.scatter(xs, ys, c = colors, s = 6)\n",
    "        # plt.title(\"Wigner function\")\n",
    "        filename = str(frame) + \".png\"\n",
    "        filenames.append(filename)\n",
    "        plt.savefig(filename, bbox_inches = \"tight\", pad_inches = 0, dpi = 216)\n",
    "        plt.close()\n",
    "\n",
    "        plots.append(imageio.imread(filename))\n",
    "        frame += 1\n",
    "    imageio.mimsave('wigner_flat.gif', plots)\n",
    "    for filename in set(filenames):\n",
    "        os.remove(filename)"
   ]
  },
  {
   "cell_type": "code",
   "execution_count": null,
   "metadata": {},
   "outputs": [],
   "source": [
    "evol_Wigner_3d(S_z@S_z, All_spins_up)"
   ]
  },
  {
   "cell_type": "code",
   "execution_count": null,
   "metadata": {},
   "outputs": [],
   "source": [
    "evol_wigner_flat(S_y@S_z+S_z@S_y, All_spins_up)"
   ]
  },
  {
   "cell_type": "code",
   "execution_count": null,
   "metadata": {},
   "outputs": [],
   "source": []
  },
  {
   "cell_type": "code",
   "execution_count": null,
   "metadata": {},
   "outputs": [],
   "source": []
  }
 ],
 "metadata": {
  "language_info": {
   "name": "python"
  },
  "orig_nbformat": 4
 },
 "nbformat": 4,
 "nbformat_minor": 2
}
