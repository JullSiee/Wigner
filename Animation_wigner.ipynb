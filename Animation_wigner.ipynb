import numpy as np
from scipy.linalg import expm
import matplotlib.pyplot as plt
import imageio.v2 as imageio
import os
from qutip import *

#przypadek dla 30 spinów
N = 30
#baza
All_spins_up = np.array([1+0j] + [0+0j]*N)

S_plus = np.zeros((N + 1, N + 1), dtype = complex)
for n in range(N): S_plus[n,n+1] = np.sqrt((n + 1)*(N - n))

S_minus = S_plus.conj().T
S_x = (S_plus + S_minus)/2
S_y = (S_plus - S_minus)/2j
S_z = (S_x @ S_y - S_y @ S_x)/1j

def rotation_operator(axis, angle):
    axis /= np.linalg.norm(axis)
    return expm(-1j*angle*(axis[0]*S_x + axis[1]*S_y + axis[2]*S_z))

def evolution(hamiltonian, initial_state, time_step, time_range):
    state = rotation_operator((0,1,0), np.pi/2) @ initial_state
    infinitesimal_evolution = expm(-1j*time_step*hamiltonian)
    result = []
    current_time = 0
    while current_time < time_range:
        result.append(state)
        current_time += time_step
        state = infinitesimal_evolution @ state
        state /= np.linalg.norm(state)
    return result

time_step = 0.05
time_range = np.pi
time_len = 0
current_time = 0
while current_time < time_range: 
    time_len += 1
    current_time += time_step


def evol_Wigner_2d(hamiltonian, initial_state):
    frame = 0
    filenames = []
    plots = []
    theta = np.linspace(0, np.pi, 100)
    phi = np.linspace(-np.pi, np.pi, 100)
    for state in evolution(hamiltonian, initial_state, time_step, time_range):
        W, THETA, PHI = spin_wigner(Qobj(state), theta, phi)
        plt.contourf(THETA, PHI, W.real, 100)
        #plt.title("$N=30, H=S_z^2$")
        filename = str(frame) + ".png"
        filenames.append(filename)
        plt.savefig(filename, bbox_inches = "tight", pad_inches = 0, dpi = 216)
        plt.clf()
        plots.append(imageio.imread(filename))
        frame += 1
    imageio.mimsave('wigner2d.gif', plots)
    for filename in set(filenames):
        os.remove(filename)

def evol_Wigner_3d(hamiltonian, initial_state):
    frame = 0
    filenames = []
    plots = []
    theta = np.linspace(0, np.pi, 300)
    phi = np.linspace(-np.pi, np.pi, 300)
    for state in evolution(hamiltonian, initial_state, time_step, time_range):
        W, THETA, PHI = spin_wigner(Qobj(state), theta, phi)
        colors = W.real
        fig = plt.figure()
        ax = plt.axes(projection ="3d")
        p = ax.scatter(np.sin(THETA)*np.cos(PHI), np.sin(THETA)*np.sin(PHI), np.cos(THETA), c = colors, s = 10)
        # ax.set_title("Wigner function")
        ax.set_xlabel('$S_x$')
        ax.set_ylabel('$S_y$')
        ax.set_zlabel('$S_z$')
        #ax.view_init(20, -10)
        # im = ax.imshow(np.arange(100).reshape((10,10)))
        # cax = fig.add_axes([ax.get_position().x1+0.01,ax.get_position().y0,0.02,ax.get_position().height])
        # plt.colorbar(im, cax=cax)
        # fig.colorbar(p, shrink=0.5, location = 'left')
        filename = str(frame) + ".png"
        filenames.append(filename)
        plt.savefig(filename, bbox_inches = "tight", pad_inches = 0, dpi = 216)
        plt.close()
        plots.append(imageio.imread(filename))
        frame += 1
    imageio.mimsave('Sz_sz_3d_N30_.gif', plots)
    for filename in set(filenames):
        os.remove(filename)

def Wigner_flat(hamiltonian, initial_state):
    frame = 0
    filenames = []
    plots = []
    theta = np.linspace(0, np.pi, 200)
    phi = np.linspace(-np.pi, np.pi, 200)
    for state in evolution(hamiltonian, initial_state, time_step, time_range):
        W, THETA, PHI = spin_wigner(Qobj(state), theta, phi)
        colors = W.real
        a = 1.340264
        b = -0.081106
        c = 0.000893
        d = 0.003796
        t = np.arcsin(np.sqrt(3)*np.sin(np.pi/2 - THETA)/2)
        xs = (2*PHI*np.cos(t)/np.sqrt(3)/(a+3*b*t**2+7*c*t**6+9*d*t**8))
        ys = (a*t+b*t**3+c*t**7+d*t**9)
        plt.gca().axis("off")
        plt.gca().set_aspect(0.75)
        plt.scatter(xs, ys, c = colors, s = 6)
        # plt.title("Wigner function")
        filename = str(frame) + ".png"
        filenames.append(filename)
        plt.savefig(filename, bbox_inches = "tight", pad_inches = 0, dpi = 216)
        plt.close()

        plots.append(imageio.imread(filename))
        frame += 1
    imageio.mimsave('Sz_Sz_Sy_Sy_30.gif', plots)
    for filename in set(filenames):
        os.remove(filename)

#przykładowe uruchomienie
evol_Wigner_3d(S_z@S_z, All_spins_up)
